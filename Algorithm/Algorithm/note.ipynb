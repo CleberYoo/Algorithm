{
 "cells": [
  {
   "cell_type": "markdown",
   "metadata": {},
   "source": [
    "#### 행렬 A : N * M 크기\n",
    "#### 행렬 B : M * K 크기"
   ]
  },
  {
   "cell_type": "code",
   "execution_count": 28,
   "metadata": {},
   "outputs": [
    {
     "name": "stdout",
     "output_type": "stream",
     "text": [
      "1 2 \n",
      "3 4 \n",
      "5 6 \n",
      "-1 -2 0 \n",
      "0 0 3 \n",
      "[[-1, -2, 6], [-3, -6, 12], [-5, -10, 18]]\n"
     ]
    }
   ],
   "source": [
    "N, M = map(int, input().split())\n",
    "A = []\n",
    "for n in range(N):\n",
    "    A.append( list( map( int, input().split() ) ) )\n",
    "\n",
    "for n in range(N):\n",
    "    for m in range(M):\n",
    "        print(A[n][m], end=' ')\n",
    "    print()\n",
    "\n",
    "\n",
    "M, K = map(int, input().split())\n",
    "B =[]\n",
    "for m in range(M):\n",
    "    B.append( list( map( int, input().split() ) ) )\n",
    "\n",
    "for m in range(M):\n",
    "    for k in range(K):\n",
    "        print(B[m][k], end=' ')\n",
    "    print()\n",
    "\n",
    "\n",
    "C = [[0 for j in range(K)] for i in range(N)]\n",
    "\n",
    "for n in range(N):\n",
    "    for k in range(K):\n",
    "        for m in range(M):\n",
    "            C[n][k] += A[n][m] * B[m][k]\n",
    "\n",
    "for n in range(N):\n",
    "    for k in range(K):\n",
    "        print(C[n][k], end=' ')\n",
    "    print()"
   ]
  },
  {
   "cell_type": "code",
   "execution_count": null,
   "metadata": {},
   "outputs": [],
   "source": []
  }
 ],
 "metadata": {
  "kernelspec": {
   "display_name": "base",
   "language": "python",
   "name": "python3"
  },
  "language_info": {
   "codemirror_mode": {
    "name": "ipython",
    "version": 3
   },
   "file_extension": ".py",
   "mimetype": "text/x-python",
   "name": "python",
   "nbconvert_exporter": "python",
   "pygments_lexer": "ipython3",
   "version": "3.11.4"
  },
  "orig_nbformat": 4
 },
 "nbformat": 4,
 "nbformat_minor": 2
}
